{
 "cells": [
  {
   "cell_type": "markdown",
   "id": "cd11da2a",
   "metadata": {},
   "source": [
    "# Project 1, Part 5, Data Visualization\n",
    "\n"
   ]
  },
  {
   "cell_type": "markdown",
   "id": "b052db7c",
   "metadata": {},
   "source": [
    "# Included Modules and Packages\n",
    "\n",
    "Code cell containing your includes for modules and packages"
   ]
  },
  {
   "cell_type": "code",
   "execution_count": 10,
   "id": "a400eec0",
   "metadata": {},
   "outputs": [],
   "source": [
    "import math\n",
    "import numpy as np\n",
    "import pandas as pd\n",
    "\n",
    "import psycopg2"
   ]
  },
  {
   "cell_type": "markdown",
   "id": "d954ac75",
   "metadata": {},
   "source": [
    "# Supporting code\n",
    "\n",
    "Code cells containing any supporting code, such as connecting to the database, any functions, etc.  Remember you can use any code from the labs."
   ]
  },
  {
   "cell_type": "code",
   "execution_count": 11,
   "id": "8fa124e7",
   "metadata": {},
   "outputs": [],
   "source": [
    "#\n",
    "# function to run a select query and return rows in a pandas dataframe\n",
    "# pandas puts all numeric values from postgres to float\n",
    "# if it will fit in an integer, change it to integer\n",
    "#\n",
    "\n",
    "def my_select_query_pandas(query, rollback_before_flag, rollback_after_flag):\n",
    "    \"function to run a select query and return rows in a pandas dataframe\"\n",
    "    \n",
    "    if rollback_before_flag:\n",
    "        connection.rollback()\n",
    "    \n",
    "    df = pd.read_sql_query(query, connection)\n",
    "    \n",
    "    if rollback_after_flag:\n",
    "        connection.rollback()\n",
    "    \n",
    "    # fix the float columns that really should be integers\n",
    "    \n",
    "    for column in df:\n",
    "    \n",
    "        if df[column].dtype == \"float64\":\n",
    "\n",
    "            fraction_flag = False\n",
    "\n",
    "            for value in df[column].values:\n",
    "                \n",
    "                if not np.isnan(value):\n",
    "                    if value - math.floor(value) != 0:\n",
    "                        fraction_flag = True\n",
    "\n",
    "            if not fraction_flag:\n",
    "                df[column] = df[column].astype('Int64')\n",
    "    \n",
    "    return(df)\n",
    "    "
   ]
  },
  {
   "cell_type": "code",
   "execution_count": 12,
   "id": "c00f0670",
   "metadata": {},
   "outputs": [],
   "source": [
    "connection = psycopg2.connect(\n",
    "    user = \"postgres\",\n",
    "    password = \"ucb\",\n",
    "    host = \"postgres\",\n",
    "    port = \"5432\",\n",
    "    database = \"postgres\"\n",
    ")"
   ]
  },
  {
   "cell_type": "markdown",
   "id": "649af216",
   "metadata": {},
   "source": [
    "# 1.5 Example of a Data Visualization created using Python\n",
    "\n",
    "The data science team would like for you to create an example of a data visualization using Python from data in a Pandas dataframe containing data from an SQL query.\n",
    "\n",
    "Write 1 and only 1 query.  Note that the query may have as many subqueries, including with clauses, as you wish. \n",
    "\n",
    "Once you have the data in a Pandas dataframe, you may write as much Python code as you wish to produce the data visualization.\n",
    "\n",
    "You may only use Python modules that are currently installed in the Anaconda Docker container.  You may not install additional modules or any other software.\n",
    "\n",
    "All work must be done in Docker in your VM in AWS.  You may not use any external data visualization systems, such as Tableau, etc.\n",
    "\n",
    "You may use any code from the labs to pattern your code after, however for the data visualization, you cannot wholesale copy a data visualization from the labs.\n",
    "\n",
    "Ensure that it is properly titled, including titles for axes if present.\n",
    "\n",
    "Ensure that when you check this Juptyer Notebook into GitHub that the query results in the Pandas dataframe are clearly visible  and that the data visualization is clearly visible.\n",
    "\n"
   ]
  },
  {
   "cell_type": "code",
   "execution_count": 13,
   "id": "dbc31d24",
   "metadata": {},
   "outputs": [
    {
     "data": {
      "text/html": [
       "<div>\n",
       "<style scoped>\n",
       "    .dataframe tbody tr th:only-of-type {\n",
       "        vertical-align: middle;\n",
       "    }\n",
       "\n",
       "    .dataframe tbody tr th {\n",
       "        vertical-align: top;\n",
       "    }\n",
       "\n",
       "    .dataframe thead th {\n",
       "        text-align: right;\n",
       "    }\n",
       "</style>\n",
       "<table border=\"1\" class=\"dataframe\">\n",
       "  <thead>\n",
       "    <tr style=\"text-align: right;\">\n",
       "      <th></th>\n",
       "      <th>product</th>\n",
       "      <th>total_sales_for_product</th>\n",
       "      <th>percentage_of_total_sales</th>\n",
       "    </tr>\n",
       "  </thead>\n",
       "  <tbody>\n",
       "    <tr>\n",
       "      <th>0</th>\n",
       "      <td>Pistachio Salmon</td>\n",
       "      <td>21945336</td>\n",
       "      <td>22.2</td>\n",
       "    </tr>\n",
       "    <tr>\n",
       "      <th>1</th>\n",
       "      <td>Eggplant Lasagna</td>\n",
       "      <td>19188696</td>\n",
       "      <td>19.4</td>\n",
       "    </tr>\n",
       "    <tr>\n",
       "      <th>2</th>\n",
       "      <td>Curry Chicken</td>\n",
       "      <td>16426608</td>\n",
       "      <td>16.6</td>\n",
       "    </tr>\n",
       "    <tr>\n",
       "      <th>3</th>\n",
       "      <td>Teriyaki Chicken</td>\n",
       "      <td>13740156</td>\n",
       "      <td>13.9</td>\n",
       "    </tr>\n",
       "    <tr>\n",
       "      <th>4</th>\n",
       "      <td>Brocolli Stir Fry</td>\n",
       "      <td>10967808</td>\n",
       "      <td>11.1</td>\n",
       "    </tr>\n",
       "    <tr>\n",
       "      <th>5</th>\n",
       "      <td>Tilapia Piccata</td>\n",
       "      <td>8246844</td>\n",
       "      <td>8.4</td>\n",
       "    </tr>\n",
       "    <tr>\n",
       "      <th>6</th>\n",
       "      <td>Spinach Orzo</td>\n",
       "      <td>5481228</td>\n",
       "      <td>5.6</td>\n",
       "    </tr>\n",
       "    <tr>\n",
       "      <th>7</th>\n",
       "      <td>Chicken Salad</td>\n",
       "      <td>2742732</td>\n",
       "      <td>2.8</td>\n",
       "    </tr>\n",
       "  </tbody>\n",
       "</table>\n",
       "</div>"
      ],
      "text/plain": [
       "             product  total_sales_for_product  percentage_of_total_sales\n",
       "0   Pistachio Salmon                 21945336                       22.2\n",
       "1   Eggplant Lasagna                 19188696                       19.4\n",
       "2      Curry Chicken                 16426608                       16.6\n",
       "3   Teriyaki Chicken                 13740156                       13.9\n",
       "4  Brocolli Stir Fry                 10967808                       11.1\n",
       "5    Tilapia Piccata                  8246844                        8.4\n",
       "6       Spinach Orzo                  5481228                        5.6\n",
       "7      Chicken Salad                  2742732                        2.8"
      ]
     },
     "execution_count": 13,
     "metadata": {},
     "output_type": "execute_result"
    }
   ],
   "source": [
    "rollback_before_flag = True\n",
    "rollback_after_flag = True\n",
    "\n",
    "query = \"\"\"\n",
    "\n",
    "with a as (\n",
    "            select p.description as product, \n",
    "                sum(l.quantity) * 12 as total_sales_for_product\n",
    "            from sales as sa\n",
    "            join line_items as l\n",
    "                on sa.store_id = l.store_id and sa.sale_id = l.sale_id\n",
    "            join products as p\n",
    "                on l.product_id = p.product_id\n",
    "            group by product\n",
    "          )\n",
    "          ,\n",
    "     b as (\n",
    "            select sum(sa.total_amount) as total_sales \n",
    "            from sales as sa     \n",
    "          )\n",
    "select a.product, \n",
    "       a.total_sales_for_product, \n",
    "       round((a.total_sales_for_product / b.total_sales) * 100, 1) as percentage_of_total_sales \n",
    "from a, b\n",
    "order by 3 desc\n",
    ";\n",
    "\n",
    "\"\"\"\n",
    "\n",
    "df = my_select_query_pandas(query, rollback_before_flag, rollback_after_flag)\n",
    "df"
   ]
  },
  {
   "cell_type": "code",
   "execution_count": 55,
   "id": "0ee034b6",
   "metadata": {},
   "outputs": [],
   "source": [
    "import matplotlib.pyplot as plt\n",
    "import matplotlib.ticker as mtick\n",
    "\n",
    "\n",
    "def plot_bar_stacked_grouped(group_dfs, grouped_vars, stacked_vars, groups, colors, figsize, horizontal=True):\n",
    "    num_grouped_vars = len(grouped_vars)\n",
    "    num_stacked_vars = len(stacked_vars) \n",
    "    num_groups = len(groups)\n",
    "    \n",
    "    ax = plt.subplot(1, 1, 1)\n",
    "\n",
    "    for df in group_dfs:\n",
    "        ax = df.plot(kind=(\"barh\" if horizontal else \"bar\"), stacked=True, ax=ax, legend=False, figsize=figsize, grid=True)\n",
    "                \n",
    "    h, l = ax.get_legend_handles_labels()\n",
    "    for i in range(num_grouped_vars):\n",
    "        for j, pa in enumerate(h[i * num_stacked_vars : (i + 1) * num_stacked_vars]):\n",
    "            for rect in pa.patches:\n",
    "                group_width = float(num_grouped_vars + 1)\n",
    "                bar_width = 1 / group_width\n",
    "                if horizontal:\n",
    "                    # Existing y -> center vertically by adjusting for thinner bar size -> offset up to the top of the grouping -> subtract the correct number of bars\n",
    "                    rect.set_y(rect.get_y() + (rect.get_height() - bar_width) / 2. + bar_width * ((num_grouped_vars - 1) / 2.) - bar_width * i)\n",
    "                    rect.set_height(bar_width)\n",
    "                else:\n",
    "                    # Existing x -> center horizontally by adjusting for thinner bar size -> offset up to the left of the grouping -> add the correct number of bars\n",
    "                    rect.set_x(rect.get_x() + (rect.get_width() - bar_width) / 2. - bar_width * ((num_grouped_vars - 1) / 2.) + bar_width * i)\n",
    "                    rect.set_width(bar_width)\n",
    "                rect.set_facecolor(colors[i][j])\n",
    "                rect.set_linewidth(1)\n",
    "\n",
    "    if horizontal:\n",
    "        ax.set_yticks((np.arange(0, 2 * num_groups, 2) + 1 / float(num_grouped_vars + 1)) / 2. - (1 / float(num_grouped_vars + 1) * 0.5))\n",
    "        ax.set_yticklabels(df.index, rotation=0, fontsize=12)\n",
    "    else:\n",
    "        ax.set_xticks((np.arange(0, 2 * num_groups, 2) + 1 / float(num_grouped_vars + 1)) / 2. - (1 / float(num_grouped_vars + 1) * 0.5))\n",
    "        ax.set_xticklabels(df.index, rotation=90, fontsize=12)\n",
    "    \n",
    "    swatches = []\n",
    "    labels = []\n",
    "    for i in range(num_grouped_vars):\n",
    "        for j in range(num_stacked_vars):\n",
    "            swatches.append(Line2D([0], [0], color=colors[i][j], lw=4))\n",
    "            labels.append(f\"{stacked_vars[j]} ({grouped_vars[i]})\" if len(stacked_vars) > 1 else f\"{grouped_vars[i]}\")\n",
    "    ax.legend(swatches, labels, fontsize=12)\n",
    "    \n",
    "    return ax"
   ]
  },
  {
   "cell_type": "code",
   "execution_count": 79,
   "id": "38a4afb6",
   "metadata": {},
   "outputs": [
    {
     "data": {
      "text/plain": [
       "Text(0, 0.5, 'Products')"
      ]
     },
     "execution_count": 79,
     "metadata": {},
     "output_type": "execute_result"
    },
    {
     "data": {
      "image/png": "[encoded data removed]",
      "text/plain": [
       "<Figure size 1440x720 with 1 Axes>"
      ]
     },
     "metadata": {
      "needs_background": "light"
     },
     "output_type": "display_data"
    }
   ],
   "source": [
    "total_sales = df['total_sales_for_product']\n",
    "#percentage = df['percentage_of_total_sales']\n",
    "\n",
    "total_sales.index = [\"Pistachio Salmon\",\"Eggplant Lasagna\",\"Curry Chicken\",\"Teriyaki Chicken\",\"Brocolli Stir Fry\",\"Tilapia Piccata\",\"Spinach Orzo\",\"Chicken Salad\"]\n",
    "percentage.index = [\"Pistachio Salmon\",\"Eggplant Lasagna\",\"Curry Chicken\",\"Teriyaki Chicken\",\"Brocolli Stir Fry\",\"Tilapia Piccata\",\"Spinach Orzo\",\"Chicken Salad\"]\n",
    "\n",
    "new = pd.DataFrame({\"Total Sales For Products in Millons\": total_sales})\n",
    "\n",
    "ax = new.plot(kind=\"barh\", figsize=(20, 10),color=['#89CFF0'],rot=1)\n",
    "\n",
    "\n",
    "ax.set_title(\" Product Sales Data\")\n",
    "ax.set_xlabel(\"Total sales of product (in millions)\")\n",
    "ax.grid(False)\n",
    "ax.set_ylabel(\"Products\")"
   ]
  },
  {
   "cell_type": "code",
   "execution_count": 80,
   "id": "75d6528b",
   "metadata": {},
   "outputs": [
    {
     "data": {
      "image/png": "[encoded data removed]",
      "text/plain": [
       "<Figure size 1440x720 with 1 Axes>"
      ]
     },
     "metadata": {
      "needs_background": "light"
     },
     "output_type": "display_data"
    }
   ],
   "source": [
    "#total_sales = df['total_sales_for_product']\n",
    "percentage = df['percentage_of_total_sales']\n",
    "\n",
    "total_sales.index = [\"Pistachio Salmon\",\"Eggplant Lasagna\",\"Curry Chicken\",\"Teriyaki Chicken\",\"Brocolli Stir Fry\",\"Tilapia Piccata\",\"Spinach Orzo\",\"Chicken Salad\"]\n",
    "percentage.index = [\"Pistachio Salmon\",\"Eggplant Lasagna\",\"Curry Chicken\",\"Teriyaki Chicken\",\"Brocolli Stir Fry\",\"Tilapia Piccata\",\"Spinach Orzo\",\"Chicken Salad\"]\n",
    "\n",
    "new = pd.DataFrame({\"Percentage of Total Sales\": percentage})\n",
    "\n",
    "ax = new.plot(kind=\"barh\", figsize=(20, 10),color=['#C1E1C1'],rot=1)\n",
    "\n",
    "\n",
    "ax.set_title(\" Product Sales Data\")\n",
    "ax.set_xlabel(\"Percentage of Total Sales\")\n",
    "ax.grid(True)\n",
    "ax.set_ylabel(\"Products\")\n",
    "ax.xaxis.set_major_formatter(mtick.PercentFormatter(100.0))"
   ]
  }
 ],
 "metadata": {
  "kernelspec": {
   "display_name": "Python 3",
   "language": "python",
   "name": "python3"
  },
  "language_info": {
   "codemirror_mode": {
    "name": "ipython",
    "version": 3
   },
   "file_extension": ".py",
   "mimetype": "text/x-python",
   "name": "python",
   "nbconvert_exporter": "python",
   "pygments_lexer": "ipython3",
   "version": "3.8.8"
  }
 },
 "nbformat": 4,
 "nbformat_minor": 5
}
